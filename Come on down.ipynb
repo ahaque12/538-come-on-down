{
 "cells": [
  {
   "cell_type": "markdown",
   "metadata": {},
   "source": [
    "# Come on down\n",
    "From Josh Berry, come on down!\n",
    "\n",
    "You’re playing a “Price Is Right” game called Cover Up, which has contestants try to guess all five digits of the price of a brand new car. You have two numbers to choose from for the first digit, three numbers to choose from for the second digit, and so on, ending with six options for the fifth and final digit. You’re not winning any $100,000 cars in this game.\n",
    "\n",
    "First, you lock in a guess at the entire price of the car. If you get at least one digit correct on the first guess, the correct digit(s) are highlighted and you get to replace incorrect digits on a second guess. This continues on subsequent guesses until the price is guessed correctly. But if none of the new numbers you swapped in are correct, you lose. A contestant could conceivably win the car on the first guess or with five guesses, getting one additional correct digit highlighted on each guess.\n",
    "\n",
    "First question: If you’re guessing entirely by chance, what’s the likelihood of winning the car?\n",
    "\n",
    "Second question: Suppose you know a little bit about cars. Specifically, you are 100 percent certain about the digit in the ten-thousands place, but have to guess the remaining four digits by chance. What’s the best strategy, and what’s the likelihood of winning the car now?"
   ]
  },
  {
   "cell_type": "code",
   "execution_count": 1,
   "metadata": {},
   "outputs": [],
   "source": [
    "%matplotlib inline\n",
    "import numpy as np\n",
    "import pandas as pd\n",
    "import matplotlib.pyplot as plt"
   ]
  },
  {
   "cell_type": "markdown",
   "metadata": {},
   "source": [
    "Assume the winning number is 00000. Due to symmetry the probability when the winning number is 00000 and any other arbitrary valid number should be the same."
   ]
  },
  {
   "cell_type": "code",
   "execution_count": 2,
   "metadata": {},
   "outputs": [],
   "source": [
    "WINNING_NUMBER = np.array([0, 0, 0, 0, 0])"
   ]
  },
  {
   "cell_type": "code",
   "execution_count": 3,
   "metadata": {},
   "outputs": [],
   "source": [
    "def gen_permutes():\n",
    "    for a in range(2):\n",
    "        for b in range(3):\n",
    "            for c in range(4):\n",
    "                for d in range(5):\n",
    "                    for e in range(6):\n",
    "                        yield a, b, c, d, e"
   ]
  },
  {
   "cell_type": "code",
   "execution_count": 4,
   "metadata": {},
   "outputs": [],
   "source": [
    "def can_continue(guess, prior_guess=None):\n",
    "    \"\"\"Determine which guesses have atleast one correct guess that were not guessed in the prior guess.\"\"\"\n",
    "    if prior_guess is None:\n",
    "        return np.any(guess == WINNING_NUMBER, axis=1)\n",
    "    return np.any((guess == WINNING_NUMBER) & (guess != prior_guess), axis=1)\n",
    "    \n",
    "\n",
    "def iterate(x, hold=False):\n",
    "    \"\"\"Increment guesses.\"\"\"\n",
    "    x = x.copy() + 1\n",
    "    for i in range(5):\n",
    "        if i == 0 and hold:\n",
    "            continue\n",
    "        x[:, i] %= i+2\n",
    "    \n",
    "    return x\n",
    "\n",
    "def use_knowledge(x):\n",
    "    \"\"\"Use knowledge of the digit in the 10,000 place.\"\"\"\n",
    "    x = x.copy()\n",
    "    x[:, 0] = WINNING_NUMBER[0]\n",
    "    return x\n",
    "\n",
    "def gen_new_guess(guess, prior_guess=None, hold=False):\n",
    "    \"\"\"Generate a new guess.\"\"\"\n",
    "    new_guess = np.where(guess == WINNING_NUMBER, guess, iterate(guess, hold))\n",
    "    ix = ~can_continue(guess, prior_guess=prior_guess)\n",
    "    new_guess[ix] = guess[ix]\n",
    "    return new_guess"
   ]
  },
  {
   "cell_type": "code",
   "execution_count": 5,
   "metadata": {},
   "outputs": [],
   "source": [
    "assert np.all(can_continue(np.array([[1, 1, 1, 1, 1]])) == np.array([False]))\n",
    "assert np.all(can_continue(np.array([[0, 1, 1, 1, 1]]), prior_guess=np.array([[0, 1, 1, 1, 1]])) == np.array([False]))"
   ]
  },
  {
   "cell_type": "markdown",
   "metadata": {},
   "source": [
    "## Estimate the probability of winning the game\n",
    "The probability of winning should increase with each guess, up to a maximum of 5 guesses. We see that the probability of winning is 32.08333%"
   ]
  },
  {
   "cell_type": "code",
   "execution_count": 6,
   "metadata": {},
   "outputs": [],
   "source": [
    "first_guess = np.array(list(gen_permutes()))"
   ]
  },
  {
   "cell_type": "code",
   "execution_count": 7,
   "metadata": {},
   "outputs": [
    {
     "name": "stdout",
     "output_type": "stream",
     "text": [
      "Guess #1, Probability of winning:0.001388888888888889\n",
      "Guess #2, Probability of winning:0.043055555555555555\n",
      "Guess #3, Probability of winning:0.18194444444444444\n",
      "Guess #4, Probability of winning:0.2986111111111111\n",
      "Guess #5, Probability of winning:0.32083333333333336\n"
     ]
    }
   ],
   "source": [
    "guess = first_guess.copy()\n",
    "prior_guess = None\n",
    "for i in range(5):\n",
    "    print(\"Guess #{}, Probability of winning:{}\".format(i+1, np.all(guess == WINNING_NUMBER, axis=1).mean()))\n",
    "    old_guess = guess.copy()\n",
    "    guess = gen_new_guess(guess, prior_guess=prior_guess)\n",
    "    prior_guess = old_guess"
   ]
  },
  {
   "cell_type": "code",
   "execution_count": 8,
   "metadata": {},
   "outputs": [
    {
     "data": {
      "text/plain": [
       "0.0013888888888888887"
      ]
     },
     "execution_count": 8,
     "metadata": {},
     "output_type": "execute_result"
    }
   ],
   "source": [
    "# Sanity test first guess is perfect\n",
    "(1/2)*(1/3)*(1/4)*(1/5)*(1/6)"
   ]
  },
  {
   "cell_type": "markdown",
   "metadata": {},
   "source": [
    "## Estimate the probability given different strategies\n",
    "Assuming you have knowledge of the 10,000th digit, you are able to use that information as a guaranteed way to guess for atleast one more round. We can evaluate the probability of winning given that you put in the right number for that digit at different rounds of guessing.\n",
    "\n",
    "Using that information before the 2nd guess or 3rd guess is equivalent, both lead to a probability of winning of 42.777%."
   ]
  },
  {
   "cell_type": "code",
   "execution_count": 9,
   "metadata": {},
   "outputs": [],
   "source": [
    "first_guess = np.array(list(gen_permutes()))\n",
    "first_guess[:, 0] = 1-WINNING_NUMBER[0]"
   ]
  },
  {
   "cell_type": "code",
   "execution_count": 10,
   "metadata": {},
   "outputs": [
    {
     "name": "stdout",
     "output_type": "stream",
     "text": [
      "Use knowledge in guess 1, Probability of winning:0.32222222222222224\n",
      "Use knowledge in guess 2, Probability of winning:0.42777777777777776\n",
      "Use knowledge in guess 3, Probability of winning:0.42777777777777776\n",
      "Use knowledge in guess 4, Probability of winning:0.3333333333333333\n",
      "Use knowledge in guess 5, Probability of winning:0.19166666666666668\n"
     ]
    }
   ],
   "source": [
    "for i in range(5):\n",
    "    guess = first_guess.copy()\n",
    "    prior_guess = None\n",
    "    for j in range(5):\n",
    "        if i == j:\n",
    "            guess = use_knowledge(guess)\n",
    "        if j == 4:\n",
    "            print(\"Use knowledge in guess {}, Probability of winning:{}\".format(i+1,\n",
    "                                                                                np.all(guess == WINNING_NUMBER, axis=1).mean()))\n",
    "        old_guess = guess.copy()\n",
    "        guess = gen_new_guess(guess, prior_guess=prior_guess, hold=True)\n",
    "        prior_guess = old_guess\n"
   ]
  }
 ],
 "metadata": {
  "kernelspec": {
   "display_name": "Python 3",
   "language": "python",
   "name": "python3"
  },
  "language_info": {
   "codemirror_mode": {
    "name": "ipython",
    "version": 3
   },
   "file_extension": ".py",
   "mimetype": "text/x-python",
   "name": "python",
   "nbconvert_exporter": "python",
   "pygments_lexer": "ipython3",
   "version": "3.6.5"
  }
 },
 "nbformat": 4,
 "nbformat_minor": 2
}
